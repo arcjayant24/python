{
 "cells": [
  {
   "cell_type": "markdown",
   "metadata": {},
   "source": [
    "## create a three function of subtraction, multipplication and division and call them using 3 parameter"
   ]
  },
  {
   "cell_type": "markdown",
   "metadata": {},
   "source": [
    "## subtraction"
   ]
  },
  {
   "cell_type": "code",
   "execution_count": 29,
   "metadata": {},
   "outputs": [
    {
     "name": "stdout",
     "output_type": "stream",
     "text": [
      "value2 = 499 is subtract from value1 = 999 and value3 = 99 is subtract from the substraction of value1 and value2 500 - 99 = 401\n",
      "subtraction of value1 = 999 - value2 = 499 - value3 = 99 = 401\n"
     ]
    }
   ],
   "source": [
    "def subtraction(s1,s2,s3):\n",
    "    print(f'value2 = {s2} is subtract from value1 = {s1} and value3 = {s3} is subtract from the substraction of value1 and value2 {s1-s2} - {s3} = {s1-s2-s3}') \n",
    "    print(f'subtraction of value1 = {s1} - value2 = {s2} - value3 = {s3} = {s1-s2-s3}')\n",
    "\n",
    "subtraction(999,499,99) "
   ]
  },
  {
   "cell_type": "markdown",
   "metadata": {},
   "source": [
    "## multiplication"
   ]
  },
  {
   "cell_type": "code",
   "execution_count": 10,
   "metadata": {},
   "outputs": [
    {
     "name": "stdout",
     "output_type": "stream",
     "text": [
      "multiplying value1 = 25 with value2 = 25, then multiply with value3 = 25 to product of value1 and value2 is m1*m2*m3  = 15625\n"
     ]
    }
   ],
   "source": [
    "def multiplication(m1,m2,m3):\n",
    "    print(f'multiplying value1 = {m1} with value2 = {m2}, then multiply with value3 = {m3} to product of value1 and value2 is m1*m2*m3  = { m1*m2*m3}')\n",
    "\n",
    "multiplication(25,25,25)  "
   ]
  },
  {
   "cell_type": "markdown",
   "metadata": {},
   "source": [
    "## division"
   ]
  },
  {
   "cell_type": "code",
   "execution_count": 50,
   "metadata": {},
   "outputs": [
    {
     "name": "stdout",
     "output_type": "stream",
     "text": [
      "1000/20 = 50.0/5 = 10.0 \n",
      "d1 = 1000, d2 = 20, d3 = 5, division of three parameters is d1/d2/d3 = 10.0\n",
      "value1 = 1000 is divided by valu2 = 20 and value3 = 5 divide to division of value1 and value2 d1/d2/d3 = 10.0\n"
     ]
    }
   ],
   "source": [
    "def division(d1,d2,d3):\n",
    "    print(f'{d1}/{d2} = {d1/d2}/{d3} = {d1/d2/d3} ')\n",
    "    print(f'd1 = {d1}, d2 = {d2}, d3 = {d3}, division of three parameters is d1/d2/d3 = {d1/d2/d3}')\n",
    "    print(f'value1 = {d1} is divided by valu2 = {d2} and value3 = {d3} divide to division of value1 and value2 d1/d2/d3 = {d1/d2/d3}')\n",
    "\n",
    "division(1000,20,5)"
   ]
  },
  {
   "cell_type": "code",
   "execution_count": 55,
   "metadata": {},
   "outputs": [
    {
     "name": "stdout",
     "output_type": "stream",
     "text": [
      "addition of three parameters vaule1=1000, value=10000, value3=100000 is a1+a2+a3 = 111000\n",
      "subtraction of three parameters vaule1=1000, value=10000, value3=100000 is a1-a2-a3 = -109000\n",
      "multiplication of three parameters vaule1=1000, value=10000, value3=100000 is a1*a2*a3 = 1000000000000\n",
      "division of three parameters vaule1=1000, value=10000, value3=100000 is a1/a2/a3 = 1e-06\n"
     ]
    }
   ],
   "source": [
    "def allOperation(a1,a2,a3):\n",
    "    print(f'addition of three parameters vaule1={a1}, value={a2}, value3={a3} is a1+a2+a3 = {a1+a2+a3}')\n",
    "    print(f'subtraction of three parameters vaule1={a1}, value={a2}, value3={a3} is a1-a2-a3 = {a1-a2-a3}')\n",
    "    print(f'multiplication of three parameters vaule1={a1}, value={a2}, value3={a3} is a1*a2*a3 = {a1*a2*a3}')\n",
    "    print(f'division of three parameters vaule1={a1}, value={a2}, value3={a3} is a1/a2/a3 = {a1/a2/a3}')\n",
    "\n",
    "allOperation(1000,10000,100000)    "
   ]
  }
 ],
 "metadata": {
  "kernelspec": {
   "display_name": "Python 3",
   "language": "python",
   "name": "python3"
  },
  "language_info": {
   "codemirror_mode": {
    "name": "ipython",
    "version": 3
   },
   "file_extension": ".py",
   "mimetype": "text/x-python",
   "name": "python",
   "nbconvert_exporter": "python",
   "pygments_lexer": "ipython3",
   "version": "3.12.4"
  }
 },
 "nbformat": 4,
 "nbformat_minor": 2
}
