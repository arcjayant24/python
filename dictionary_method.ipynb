{
 "cells": [
  {
   "cell_type": "markdown",
   "id": "bd8faa2d-bf36-4017-9c4a-6f69924da4ad",
   "metadata": {},
   "source": [
    "# Dictionary Method()"
   ]
  },
  {
   "cell_type": "markdown",
   "id": "0d52ab24-b93c-409a-8af2-a4294a0f4ca2",
   "metadata": {},
   "source": [
    "#### copy() Method :- The copy() method returns a copy of the specified dictionary.\n",
    "\n"
   ]
  },
  {
   "cell_type": "code",
   "execution_count": 96,
   "id": "43087a17-32ba-43ca-9894-1eecbe2b114d",
   "metadata": {},
   "outputs": [
    {
     "name": "stdout",
     "output_type": "stream",
     "text": [
      "{'first_name': 'jayant', 'last_name': 'rangari', 'age': 25, 'institute': 'arc_technology', 'batch': 'DA5', 'year': 2024, 'is_active': True}\n"
     ]
    }
   ],
   "source": [
    "student = {\"first_name\":\"jayant\",\n",
    "           \"last_name\":\"rangari\",\n",
    "           \"age\":25,\n",
    "            \"institute\":\"arc_technology\",\n",
    "            \"batch\":\"DA5\",\n",
    "            \"year\":2024,\n",
    "            \"is_active\":True \n",
    "            }\n",
    "\n",
    "student.copy()\n",
    "\n",
    "print(student)"
   ]
  },
  {
   "cell_type": "markdown",
   "id": "e8b68642-77ac-43c9-9337-27dfe998cd0a",
   "metadata": {},
   "source": [
    "#### fromkeys() Method:- returns a dictionary with the specified keys and the specified value\n",
    "\n"
   ]
  },
  {
   "cell_type": "code",
   "execution_count": 30,
   "id": "174d35b1-9cd4-4387-9d8d-b72666d5fca0",
   "metadata": {},
   "outputs": [
    {
     "name": "stdout",
     "output_type": "stream",
     "text": [
      "{'excel': 'DA1', 'postgresql': 'DA1', 'powerbi': 'DA1', 'tableau': 'DA1', 'mongodb': 'DA1', 'python': 'DA1'}\n"
     ]
    }
   ],
   "source": [
    "modules = (\"excel\",\"postgresql\",\"powerbi\",\"tableau\",\"mongodb\",\"python\")\n",
    "batch = (\"DA1\")\n",
    "\n",
    "new_dictionary = dict.fromkeys(modules,batch)\n",
    "\n",
    "print(new_dictionary)"
   ]
  },
  {
   "cell_type": "markdown",
   "id": "abb09708-c57a-4de5-89f4-7d5589b4b1d9",
   "metadata": {},
   "source": [
    "#### get() Method:- returns the value of the item with the specified key\n",
    "\n"
   ]
  },
  {
   "cell_type": "code",
   "execution_count": 47,
   "id": "3e3c07e0-85c8-4caf-9040-a34fb180f70c",
   "metadata": {},
   "outputs": [
    {
     "name": "stdout",
     "output_type": "stream",
     "text": [
      "True\n"
     ]
    }
   ],
   "source": [
    "student = {\"first_name\":\"jayant\",\n",
    "           \"last_name\":\"rangari\",\n",
    "           \"age\":25,\n",
    "            \"institute\":\"arc_technology\",\n",
    "            \"batch\":\"DA5\",\n",
    "            \"year\":2024,\n",
    "            \"is_active\":True \n",
    "            }\n",
    "\n",
    "get = student.get(\"is_active\")\n",
    "\n",
    "\n",
    "print(get)"
   ]
  },
  {
   "cell_type": "markdown",
   "id": "740321b1-55e1-470e-9926-23301d0433b2",
   "metadata": {},
   "source": [
    "#### items() Method :-returns a view object. The view object contains the key-value pairs of the dictionary, as tuples in a list.\n",
    "#### The view object will reflect any changes done to the dictionary\n",
    "\n"
   ]
  },
  {
   "cell_type": "code",
   "execution_count": 54,
   "id": "b613ba73-e3ec-4ea9-8cb1-cc92960ef659",
   "metadata": {},
   "outputs": [
    {
     "name": "stdout",
     "output_type": "stream",
     "text": [
      "dict_items([('shipmode', 'home_office'), ('segment', 'consumer'), ('category', 'technology')])\n"
     ]
    }
   ],
   "source": [
    "item = {\"shipmode\":\"home_office\",\"segment\":\"consumer\",\"category\":\"technology\"}\n",
    "\n",
    "item = item.items()\n",
    "\n",
    "print(item)"
   ]
  },
  {
   "cell_type": "markdown",
   "id": "438b7d00-536c-4d94-8105-89332d7483c0",
   "metadata": {},
   "source": [
    "#### keys() Method:- returns a view object. The view object contains the keys of the dictionary, as a list.\n",
    "#### The view object will reflect any changes done to the dictionary"
   ]
  },
  {
   "cell_type": "code",
   "execution_count": 57,
   "id": "8d2c571e-0b47-4ad3-a7f7-90175c8b267f",
   "metadata": {},
   "outputs": [
    {
     "name": "stdout",
     "output_type": "stream",
     "text": [
      "dict_keys(['American Brandies', 'store_name', 'city', 'vendor_code', 'price'])\n"
     ]
    }
   ],
   "source": [
    "keys = { \"American Brandies\":\"E & J VS PET\",\n",
    "        \"store_name\":\"Vine Food & Liquor\",\n",
    "        \"city\":\"Vinton\",\n",
    "        \"vendor_code\":\"115\",\n",
    "        \"price\":\"1243.8\"\n",
    "       }\n",
    "\n",
    "keys = keys.keys()\n",
    "\n",
    "print(keys)"
   ]
  },
  {
   "cell_type": "markdown",
   "id": "1b66ea72-b01f-49b1-8811-f6d8e55fc796",
   "metadata": {},
   "source": [
    "#### pop() Method :- The pop() method removes the specified item from the dictionary.\n",
    "#### The value of the removed item is the return value of the pop() method"
   ]
  },
  {
   "cell_type": "code",
   "execution_count": 84,
   "id": "56182d79-bf7b-42ac-a5eb-7c43c235abf2",
   "metadata": {},
   "outputs": [
    {
     "name": "stdout",
     "output_type": "stream",
     "text": [
      "{'brand': 'TVS', 'model': 'jupyter'}\n"
     ]
    }
   ],
   "source": [
    "bike = {\n",
    "  \"brand\": \"TVS\",\n",
    "  \"model\": \"jupyter\",\n",
    "  \"year\": 2020\n",
    "}\n",
    "\n",
    "bike.pop(\"year\")\n",
    "\n",
    "print(bike)"
   ]
  },
  {
   "cell_type": "code",
   "execution_count": 88,
   "id": "8d451235-7f31-438f-b145-723e0e8b0a30",
   "metadata": {},
   "outputs": [
    {
     "data": {
      "text/plain": [
       "2020"
      ]
     },
     "execution_count": 88,
     "metadata": {},
     "output_type": "execute_result"
    }
   ],
   "source": [
    "bike = {\n",
    "  \"brand\": \"TVS\",\n",
    "  \"model\": \"jupyter\",\n",
    "  \"year\": 2020\n",
    "}\n",
    "\n",
    "bike.pop(\"year\")\n"
   ]
  },
  {
   "cell_type": "markdown",
   "id": "3dba2545-02f1-46c0-94df-6230d5b63e84",
   "metadata": {},
   "source": [
    "#### popitem() Method :- removes the item that was last inserted into the dictionary\n",
    "#### The removed item is the return value of the popitem() method, as a tuple\n",
    "\n"
   ]
  },
  {
   "cell_type": "code",
   "execution_count": 91,
   "id": "ea8c3ff9-53e1-49d9-9f5c-9f91853d1396",
   "metadata": {},
   "outputs": [
    {
     "data": {
      "text/plain": [
       "('Dictionary Methods', 'popitem')"
      ]
     },
     "execution_count": 91,
     "metadata": {},
     "output_type": "execute_result"
    }
   ],
   "source": [
    "popitem = {\"String Methods\":\"center\",\n",
    "           \"List Methods\":\"append\",\n",
    "           \"Tuple Method\":\"count\",\n",
    "           \"Dictionary Methods\":\"popitem\"\n",
    "          }\n",
    "\n",
    "popitem.popitem()"
   ]
  },
  {
   "cell_type": "markdown",
   "id": "d589f023-73d3-4d46-88c0-e2357408d37a",
   "metadata": {},
   "source": [
    "#### setdefault() Method :- The setdefault() method returns the value of the item with the specified key.\n",
    "#### If the key does not exist, insert the key, with the specified value"
   ]
  },
  {
   "cell_type": "code",
   "execution_count": 108,
   "id": "59136497-1d13-4451-a0b0-f3eb8aa7847d",
   "metadata": {},
   "outputs": [
    {
     "name": "stdout",
     "output_type": "stream",
     "text": [
      "texas\n"
     ]
    }
   ],
   "source": [
    "setdefault = {\"city\":\"texas\",\n",
    "              \"country\":\"united states\",\n",
    "              \"state\":\"california\",\n",
    "              \"region\":\"north\"\n",
    "             }\n",
    "\n",
    "setdefault = setdefault.setdefault(\"city\")\n",
    "\n",
    "print(setdefault)"
   ]
  },
  {
   "cell_type": "code",
   "execution_count": 116,
   "id": "27ad6aae-0ce6-42e6-9578-64004d70fd7a",
   "metadata": {},
   "outputs": [
    {
     "data": {
      "text/plain": [
       "1245"
      ]
     },
     "execution_count": 116,
     "metadata": {},
     "output_type": "execute_result"
    }
   ],
   "source": [
    "setdefault = {\"city\":\"texas\",\n",
    "              \"country\":\"united states\",\n",
    "              \"state\":\"california\",\n",
    "              \"region\":\"north\"\n",
    "             }\n",
    "setdefault.setdefault(\"postal code\",1245)"
   ]
  },
  {
   "cell_type": "markdown",
   "id": "5f3dcd9e-81ee-4496-b48d-949f4f433828",
   "metadata": {},
   "source": [
    "#### update() Method :- inserts the specified items to the dictionary."
   ]
  },
  {
   "cell_type": "code",
   "execution_count": 127,
   "id": "4d408f28-e742-42ee-a687-50f9e5b8e460",
   "metadata": {},
   "outputs": [
    {
     "name": "stdout",
     "output_type": "stream",
     "text": [
      "{'brand': 'HP', 'ram': '8GB', 'storage': '512SSD', 'processors': 'intel core i3', 'generation': 12, 'price': 40000, 'edition': 'windows 11'}\n"
     ]
    }
   ],
   "source": [
    "update = {\n",
    "         \"brand\":\"HP\",\n",
    "         \"ram\":\"8GB\",\n",
    "         \"storage\":\"512SSD\",\n",
    "         \"processors\":\"intel core i3\",\n",
    "         \"generation\":12,\n",
    "         \"price\":40000\n",
    "         }\n",
    "update.update({\"edition\":\"windows 11\"})\n",
    "\n",
    "print(update)"
   ]
  }
 ],
 "metadata": {
  "kernelspec": {
   "display_name": "Python 3 (ipykernel)",
   "language": "python",
   "name": "python3"
  },
  "language_info": {
   "codemirror_mode": {
    "name": "ipython",
    "version": 3
   },
   "file_extension": ".py",
   "mimetype": "text/x-python",
   "name": "python",
   "nbconvert_exporter": "python",
   "pygments_lexer": "ipython3",
   "version": "3.11.7"
  }
 },
 "nbformat": 4,
 "nbformat_minor": 5
}
