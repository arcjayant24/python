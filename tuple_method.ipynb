{
 "cells": [
  {
   "cell_type": "markdown",
   "id": "95eb623d-864f-4094-8b9f-57edad6dd2b9",
   "metadata": {},
   "source": [
    "## Tuple Methods"
   ]
  },
  {
   "cell_type": "markdown",
   "id": "2ffd9f54-dddd-425e-8b80-c181a7bb4e46",
   "metadata": {},
   "source": [
    "#### Count() Method :-The count() method of Tuple returns the number of times the given element appears in the tuple"
   ]
  },
  {
   "cell_type": "code",
   "execution_count": 41,
   "id": "847c080c-8191-4b1d-a813-39ccb401f038",
   "metadata": {},
   "outputs": [
    {
     "name": "stdout",
     "output_type": "stream",
     "text": [
      "python appears in the tuple 3 times\n"
     ]
    }
   ],
   "source": [
    "count = (\"excel\",\"posgresql\",\"python\",\"powerbi\",\"tableau\",\"python\",\"mongodb\",\"python\")\n",
    "\n",
    "count.count(\"python\")\n",
    "\n",
    "print(f'python appears in the tuple {count.count(\"python\")} times')"
   ]
  },
  {
   "cell_type": "markdown",
   "id": "6296cee5-2cc2-4e54-ba53-695d4caae732",
   "metadata": {},
   "source": [
    "#### Index() Method :-Searches the tuple for a specified value and returns the position of where it was \n",
    "#### The index() method finds the first occurrence of the specified value."
   ]
  },
  {
   "cell_type": "code",
   "execution_count": 63,
   "id": "a224c392-9c3f-4460-82fc-ff1b23b18af5",
   "metadata": {},
   "outputs": [
    {
     "name": "stdout",
     "output_type": "stream",
     "text": [
      "Search for the first occurrence of the value 3, and return its position is 3\n"
     ]
    }
   ],
   "source": [
    "index = (0,1,2,3,4,5,6,3,8,9,10,3)\n",
    "\n",
    "index.index(3)\n",
    "\n",
    "print(f'Search for the first occurrence of the value 3, and return its position is {index.index(3)}')"
   ]
  },
  {
   "cell_type": "markdown",
   "id": "2522e47c-1761-48fd-8ecc-2777dfd86660",
   "metadata": {},
   "source": [
    "#### Length :- To determine how many items a tuple has\r\n"
   ]
  },
  {
   "cell_type": "code",
   "execution_count": 120,
   "id": "809339ff-3054-4f8b-b8e2-57da76e210fc",
   "metadata": {},
   "outputs": [
    {
     "name": "stdout",
     "output_type": "stream",
     "text": [
      "3\n"
     ]
    }
   ],
   "source": [
    "thistuple =(\"apple\", \"banana\", \"cherry\")\n",
    "print(len(thistuple))"
   ]
  },
  {
   "cell_type": "code",
   "execution_count": null,
   "id": "eeb206a1-4ec4-4a6f-b4b5-2b8e6e94feb3",
   "metadata": {},
   "outputs": [],
   "source": []
  }
 ],
 "metadata": {
  "kernelspec": {
   "display_name": "Python 3 (ipykernel)",
   "language": "python",
   "name": "python3"
  },
  "language_info": {
   "codemirror_mode": {
    "name": "ipython",
    "version": 3
   },
   "file_extension": ".py",
   "mimetype": "text/x-python",
   "name": "python",
   "nbconvert_exporter": "python",
   "pygments_lexer": "ipython3",
   "version": "3.11.7"
  }
 },
 "nbformat": 4,
 "nbformat_minor": 5
}
