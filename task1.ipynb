{
 "cells": [
  {
   "cell_type": "code",
   "execution_count": 5,
   "id": "3e686de9-ef83-4449-86f8-44c6b5a533a5",
   "metadata": {},
   "outputs": [
    {
     "name": "stdout",
     "output_type": "stream",
     "text": [
      "this is arc technology offers data analyst course in nagpur\n"
     ]
    }
   ],
   "source": [
    "str = 'offers data analyst course'\n",
    "\n",
    "print(\"this is arc technology {} in nagpur\".format(str))"
   ]
  },
  {
   "cell_type": "code",
   "execution_count": 15,
   "id": "0d763d49-4193-4ff2-8513-1af4c6008c7b",
   "metadata": {},
   "outputs": [],
   "source": [
    "info  = (\"this is arc technology {} in nagpur\".format(str))"
   ]
  },
  {
   "cell_type": "code",
   "execution_count": 17,
   "id": "ab2e9031-c0b6-4f61-abe0-2da4c26597b4",
   "metadata": {},
   "outputs": [
    {
     "name": "stdout",
     "output_type": "stream",
     "text": [
      "this is arc technology offers data analyst course in nagpur\n"
     ]
    }
   ],
   "source": [
    "print(info)"
   ]
  },
  {
   "cell_type": "markdown",
   "id": "e1e5f6c0-81c6-4a61-85a5-3404e692bce3",
   "metadata": {},
   "source": [
    "#### count() method"
   ]
  },
  {
   "cell_type": "code",
   "execution_count": 19,
   "id": "b658a1db-b8f6-4cac-85ae-3580c913b34c",
   "metadata": {},
   "outputs": [
    {
     "data": {
      "text/plain": [
       "59"
      ]
     },
     "execution_count": 19,
     "metadata": {},
     "output_type": "execute_result"
    }
   ],
   "source": [
    "len(info)"
   ]
  },
  {
   "cell_type": "markdown",
   "id": "d59c25dc-5248-4844-aee3-1246b388c5c1",
   "metadata": {},
   "source": [
    "#### replace() method\n",
    "\n"
   ]
  },
  {
   "cell_type": "code",
   "execution_count": 25,
   "id": "49362087-55f6-4cdf-9f2f-493534db6a5c",
   "metadata": {},
   "outputs": [
    {
     "data": {
      "text/plain": [
       "'this is arc technology offers java full stack course in nagpur'"
      ]
     },
     "execution_count": 25,
     "metadata": {},
     "output_type": "execute_result"
    }
   ],
   "source": [
    "info.replace(\"data analyst\",\"java full stack\")"
   ]
  },
  {
   "cell_type": "markdown",
   "id": "04d068c2-027b-4393-b243-c111393958a3",
   "metadata": {},
   "source": [
    "#### capitalize() method"
   ]
  },
  {
   "cell_type": "code",
   "execution_count": 28,
   "id": "e0c53dcc-936c-4a31-819b-7bd1672e4002",
   "metadata": {},
   "outputs": [
    {
     "name": "stdout",
     "output_type": "stream",
     "text": [
      "Jayant ranagri\n"
     ]
    }
   ],
   "source": [
    "name = 'jayant ranagri'\n",
    "name = name.capitalize()\n",
    "print(name)\n",
    " \n"
   ]
  },
  {
   "cell_type": "markdown",
   "id": "1789c4ff-b8e7-4c05-be0a-f368206899f9",
   "metadata": {},
   "source": [
    "#### casefold() method"
   ]
  },
  {
   "cell_type": "code",
   "execution_count": 39,
   "id": "93968ebe-9151-4e83-b264-5e8ab2b92fe9",
   "metadata": {},
   "outputs": [
    {
     "name": "stdout",
     "output_type": "stream",
     "text": [
      "is proramming language\n"
     ]
    }
   ],
   "source": [
    "python = 'Is proramming language'\n",
    "python = python.casefold()\n",
    "print(python)"
   ]
  },
  {
   "cell_type": "markdown",
   "id": "1b7975ee-ce55-4c60-aecd-16b6ae06a27f",
   "metadata": {},
   "source": [
    "####  centre() method"
   ]
  },
  {
   "cell_type": "code",
   "execution_count": 54,
   "id": "8f471c55-6a01-4542-a8f6-bc3bf5e9b15e",
   "metadata": {},
   "outputs": [
    {
     "name": "stdout",
     "output_type": "stream",
     "text": [
      "                                                ARC                                                 \n"
     ]
    }
   ],
   "source": [
    "DA5 = 'ARC'\n",
    "DA5 = DA5.center(100)\n",
    "print(DA5)"
   ]
  },
  {
   "cell_type": "markdown",
   "id": "99572a2b-4340-42a2-b676-72bee52e8316",
   "metadata": {},
   "source": [
    "#### endswith() method"
   ]
  },
  {
   "cell_type": "code",
   "execution_count": 57,
   "id": "a5b50c17-d3f3-4085-b49e-9cc3332bd298",
   "metadata": {},
   "outputs": [
    {
     "name": "stdout",
     "output_type": "stream",
     "text": [
      "True\n"
     ]
    }
   ],
   "source": [
    "text = 'hello, world?'\n",
    "text = text.endswith(\"?\")\n",
    "print(text)"
   ]
  },
  {
   "cell_type": "markdown",
   "id": "dc17ceb1-52c9-458f-a93e-243c9ce45bde",
   "metadata": {},
   "source": [
    "#### String find() Method\n",
    "\n"
   ]
  },
  {
   "cell_type": "code",
   "execution_count": 60,
   "id": "b9430e7d-47ee-491e-88fd-4c67d0745587",
   "metadata": {},
   "outputs": [
    {
     "name": "stdout",
     "output_type": "stream",
     "text": [
      "8\n"
     ]
    }
   ],
   "source": [
    "string = 'this is string or not'\n",
    "string = string.find(\"string\")\n",
    "print(string)"
   ]
  },
  {
   "cell_type": "markdown",
   "id": "72cf8c06-255e-4f1a-bae6-c722aa98ed15",
   "metadata": {},
   "source": [
    "#### format() method"
   ]
  },
  {
   "cell_type": "code",
   "execution_count": 63,
   "id": "767a7cc5-d9c2-4d68-95f9-8c9eed3f5bdb",
   "metadata": {},
   "outputs": [
    {
     "name": "stdout",
     "output_type": "stream",
     "text": [
      "the rate is 100.00 dollars!\n"
     ]
    }
   ],
   "source": [
    "value = \"the rate is {only:.2f} dollars!\"\n",
    "print(value.format(only = 100))"
   ]
  },
  {
   "cell_type": "markdown",
   "id": "ba2d36a4-3c5e-4876-9217-5ed617d3f617",
   "metadata": {},
   "source": [
    "#### index() method"
   ]
  },
  {
   "cell_type": "code",
   "execution_count": 66,
   "id": "33fcd53a-620b-4f54-9414-14f62b4a0582",
   "metadata": {},
   "outputs": [
    {
     "name": "stdout",
     "output_type": "stream",
     "text": [
      "3\n"
     ]
    }
   ],
   "source": [
    "excel = \"if statement\"\n",
    "excel = excel.index(\"statement\")\n",
    "print(excel)"
   ]
  },
  {
   "cell_type": "markdown",
   "id": "d355b3f4-c47f-4b86-b270-b5b90ba40101",
   "metadata": {},
   "source": [
    "#### isalnum() method"
   ]
  },
  {
   "cell_type": "code",
   "execution_count": 71,
   "id": "0a03e9e0-4cc8-41d7-a39b-32cb277a98bc",
   "metadata": {},
   "outputs": [
    {
     "name": "stdout",
     "output_type": "stream",
     "text": [
      "True\n"
     ]
    }
   ],
   "source": [
    "isalnum = 'plotno43ramkrushnanagar'\n",
    "isalnum = isalnum.isalnum()\n",
    "print(isalnum)"
   ]
  },
  {
   "cell_type": "markdown",
   "id": "d903b9a5-55f8-47ba-ba62-527ef7b9058b",
   "metadata": {},
   "source": [
    "#### isalpha() Method"
   ]
  },
  {
   "cell_type": "code",
   "execution_count": 84,
   "id": "96d1c960-0086-4429-b1d7-893b9c5933fe",
   "metadata": {},
   "outputs": [
    {
     "name": "stdout",
     "output_type": "stream",
     "text": [
      "True\n"
     ]
    }
   ],
   "source": [
    "alpha = 'alphabet'\n",
    "alpha = alpha.isalpha()\n",
    "print(alpha)"
   ]
  },
  {
   "cell_type": "markdown",
   "id": "8865ab24-14e8-4ea0-86cf-1b7de039da89",
   "metadata": {},
   "source": [
    "#### isnumeric() Method"
   ]
  },
  {
   "cell_type": "code",
   "execution_count": 87,
   "id": "fd2ad74c-5af0-4a99-87c5-62b8ee3bfe29",
   "metadata": {},
   "outputs": [
    {
     "name": "stdout",
     "output_type": "stream",
     "text": [
      "True\n"
     ]
    }
   ],
   "source": [
    "number = '9146524107'\n",
    "number = number.isnumeric()\n",
    "print(number)"
   ]
  },
  {
   "cell_type": "markdown",
   "id": "76c0a291-7e63-4cb8-9480-b9e087952a91",
   "metadata": {},
   "source": [
    "#### islower() Method\n",
    "\n"
   ]
  },
  {
   "cell_type": "code",
   "execution_count": 5,
   "id": "63639464-bda6-47e1-aafc-0a4cb1f30635",
   "metadata": {},
   "outputs": [
    {
     "name": "stdout",
     "output_type": "stream",
     "text": [
      "True\n"
     ]
    }
   ],
   "source": [
    "lower = 'jayant_rangari'\n",
    "lower = lower.islower()\n",
    "print(lower)"
   ]
  },
  {
   "cell_type": "markdown",
   "id": "0cfe9a59-6eae-43a3-a2af-04b5ddefff3c",
   "metadata": {},
   "source": [
    "#### isupper() Method"
   ]
  },
  {
   "cell_type": "code",
   "execution_count": 3,
   "id": "6ad87498-0939-42d2-b19d-376fd9b58dd0",
   "metadata": {},
   "outputs": [
    {
     "name": "stdout",
     "output_type": "stream",
     "text": [
      "True\n"
     ]
    }
   ],
   "source": [
    "upper = 'JAYANT_RANGARI'\n",
    "upper = upper.isupper()\n",
    "print(upper)"
   ]
  },
  {
   "cell_type": "markdown",
   "id": "0a7ff831-7183-450a-9545-c977ef8fa01e",
   "metadata": {},
   "source": [
    "#### isspace() Method"
   ]
  },
  {
   "cell_type": "code",
   "execution_count": 102,
   "id": "008c80d8-9c35-420e-90ad-d26927ba8977",
   "metadata": {},
   "outputs": [
    {
     "name": "stdout",
     "output_type": "stream",
     "text": [
      "True\n"
     ]
    }
   ],
   "source": [
    "space = '  '\n",
    "space = space.isspace()\n",
    "print(space)"
   ]
  },
  {
   "cell_type": "markdown",
   "id": "80718d16-0693-4dc6-b280-66ef7fb137b4",
   "metadata": {},
   "source": [
    "#### join() Method"
   ]
  },
  {
   "cell_type": "code",
   "execution_count": 107,
   "id": "358f595f-043d-4d95-be31-1ecf3afee8b1",
   "metadata": {},
   "outputs": [
    {
     "name": "stdout",
     "output_type": "stream",
     "text": [
      "full_inner_left_right\n"
     ]
    }
   ],
   "source": [
    "join = (\"full\",\"inner\",\"left\",\"right\")\n",
    "join = \"_\".join(join)\n",
    "print(join)"
   ]
  },
  {
   "cell_type": "markdown",
   "id": "5557c6e9-5b6f-463a-8f0f-444ac40b0c56",
   "metadata": {},
   "source": [
    "#### lower() Method\n",
    "\n"
   ]
  },
  {
   "cell_type": "code",
   "execution_count": 111,
   "id": "282b8468-cefe-4d60-86c0-8ca17a83c787",
   "metadata": {},
   "outputs": [
    {
     "name": "stdout",
     "output_type": "stream",
     "text": [
      "my name is jayant \n"
     ]
    }
   ],
   "source": [
    "lower = 'MY NAME IS JAYANT '\n",
    "lower = lower.lower()\n",
    "print(lower)"
   ]
  },
  {
   "cell_type": "markdown",
   "id": "cc6327a7-38c5-49e7-af76-7600a3922395",
   "metadata": {},
   "source": [
    "#### upper() method"
   ]
  },
  {
   "cell_type": "code",
   "execution_count": 114,
   "id": "0309ce96-2b1f-4331-859b-41ffcdf005da",
   "metadata": {},
   "outputs": [
    {
     "name": "stdout",
     "output_type": "stream",
     "text": [
      "LAST NAME IS RANGARI\n"
     ]
    }
   ],
   "source": [
    "upper = 'last name is rangari'\n",
    "upper = upper.upper()\n",
    "print(upper)"
   ]
  },
  {
   "cell_type": "markdown",
   "id": "5a589afc-5d81-49b9-a2f1-aa89bded3a71",
   "metadata": {},
   "source": [
    "#### maketrans() Method "
   ]
  },
  {
   "cell_type": "code",
   "execution_count": 123,
   "id": "adbfd792-b2db-4bb7-9c20-48f238370777",
   "metadata": {},
   "outputs": [
    {
     "name": "stdout",
     "output_type": "stream",
     "text": [
      "power bi\n"
     ]
    }
   ],
   "source": [
    "translation = 'sower bi'\n",
    "trans = str.maketrans(\"s\",\"p\")\n",
    "print(translation.translate(trans))"
   ]
  },
  {
   "cell_type": "markdown",
   "id": "8634b04a-bd83-4733-8fa5-f8de8b03d8c1",
   "metadata": {},
   "source": [
    "#### partition() Method"
   ]
  },
  {
   "cell_type": "code",
   "execution_count": 150,
   "id": "8b77daf8-e633-4944-8601-7f8aa2815022",
   "metadata": {},
   "outputs": [
    {
     "name": "stdout",
     "output_type": "stream",
     "text": [
      "('in da there are six modules ', 'sql', ' powerbi mongodb tableau python excel')\n"
     ]
    }
   ],
   "source": [
    "part = 'in da there are six modules sql powerbi mongodb tableau python excel'\n",
    "partition = part.partition(\"sql\")\n",
    "print(partition)"
   ]
  },
  {
   "cell_type": "markdown",
   "id": "3608d8d4-252b-4090-8d91-de61f53ba117",
   "metadata": {},
   "source": [
    "#### rfind() Method\r\n",
    "\r\n"
   ]
  },
  {
   "cell_type": "code",
   "execution_count": 2,
   "id": "f1f1fd3d-b4a4-4939-85d2-8ea9165c3baa",
   "metadata": {},
   "outputs": [
    {
     "name": "stdout",
     "output_type": "stream",
     "text": [
      "9\n"
     ]
    }
   ],
   "source": [
    "find = 'india is my country'\n",
    "find = find.rfind(\"my\")\n",
    "print(find)"
   ]
  },
  {
   "cell_type": "markdown",
   "id": "c5bde97d-2bc0-49e5-9bcb-c00b2bb3f671",
   "metadata": {},
   "source": [
    "#### rindex() Method\n",
    "\n"
   ]
  },
  {
   "cell_type": "code",
   "execution_count": 9,
   "id": "66bca0c2-9076-4658-aa7e-c09595c81a8c",
   "metadata": {},
   "outputs": [
    {
     "name": "stdout",
     "output_type": "stream",
     "text": [
      "37\n"
     ]
    }
   ],
   "source": [
    "index = 'origin centre o mail and nagpur is a centre if india'\n",
    "index = index.rindex(\"centre\")\n",
    "print(index)"
   ]
  },
  {
   "cell_type": "markdown",
   "id": "0b69a865-cb0d-4f36-b45a-e184e6bcc2e4",
   "metadata": {},
   "source": [
    "#### istitle() Method\n",
    "\n"
   ]
  },
  {
   "cell_type": "code",
   "execution_count": 24,
   "id": "7bbfa5c8-2066-4760-942b-33517a2f9ba5",
   "metadata": {},
   "outputs": [
    {
     "name": "stdout",
     "output_type": "stream",
     "text": [
      "True\n"
     ]
    }
   ],
   "source": [
    "title = 'Data Analyst'\n",
    "title = title.istitle()\n",
    "print(title)"
   ]
  },
  {
   "cell_type": "markdown",
   "id": "fbc9530c-1306-44e3-9ea2-1951eb023d73",
   "metadata": {},
   "source": [
    "#### rpartition() Method\n",
    "\n"
   ]
  },
  {
   "cell_type": "code",
   "execution_count": 30,
   "id": "ae53042a-1c41-4165-82db-fdd6b4132ac9",
   "metadata": {},
   "outputs": [
    {
     "name": "stdout",
     "output_type": "stream",
     "text": [
      "('i drive every day and ', 'drive', ' slowly')\n"
     ]
    }
   ],
   "source": [
    "rpart = 'i drive every day and drive slowly'\n",
    "rpart = rpart.rpartition(\"drive\")\n",
    "print(rpart)"
   ]
  },
  {
   "cell_type": "markdown",
   "id": "06096019-fc52-45fe-bdd4-e27b1a062a66",
   "metadata": {},
   "source": [
    "#### rsplit() Method\n",
    "\n"
   ]
  },
  {
   "cell_type": "code",
   "execution_count": 42,
   "id": "3db1f563-ea77-4c09-9e0e-9bfb53233e2b",
   "metadata": {},
   "outputs": [
    {
     "name": "stdout",
     "output_type": "stream",
     "text": [
      "['add', 'sub', 'mul', 'div', 'per']\n"
     ]
    }
   ],
   "source": [
    "rsplit = 'add/sub/mul/div/per'\n",
    "rsplit = rsplit.rsplit(\"/\")\n",
    "print(rsplit)"
   ]
  }
 ],
 "metadata": {
  "kernelspec": {
   "display_name": "Python 3 (ipykernel)",
   "language": "python",
   "name": "python3"
  },
  "language_info": {
   "codemirror_mode": {
    "name": "ipython",
    "version": 3
   },
   "file_extension": ".py",
   "mimetype": "text/x-python",
   "name": "python",
   "nbconvert_exporter": "python",
   "pygments_lexer": "ipython3",
   "version": "3.11.7"
  }
 },
 "nbformat": 4,
 "nbformat_minor": 5
}
