{
 "cells": [
  {
   "cell_type": "markdown",
   "id": "e9644bec-fdcf-4d36-8f37-549f045f4f4c",
   "metadata": {},
   "source": [
    "### list() method"
   ]
  },
  {
   "cell_type": "markdown",
   "id": "82aafeed-bbc7-44be-a069-c6f0716c238d",
   "metadata": {},
   "source": [
    "#### append() method"
   ]
  },
  {
   "cell_type": "code",
   "execution_count": 87,
   "id": "b06a22d5-4895-4c5b-afba-08ac2a0e4b48",
   "metadata": {},
   "outputs": [
    {
     "name": "stdout",
     "output_type": "stream",
     "text": [
      "['excel', 'postgresql', 'powerbi', 'mongodb', 'tableau', 'python']\n"
     ]
    }
   ],
   "source": [
    "data = [\"excel\",\"postgresql\",\"powerbi\",\"mongodb\",\"tableau\"]\n",
    "\n",
    "data.append(\"python\")\n",
    "\n",
    "print(data)"
   ]
  },
  {
   "cell_type": "markdown",
   "id": "711d8c00-25d4-4b24-9ef1-5b4062df11f9",
   "metadata": {},
   "source": [
    "#### clear() Method\n",
    "\n",
    " "
   ]
  },
  {
   "cell_type": "code",
   "execution_count": 64,
   "id": "171295fe-3b94-44cc-abe1-7386f8570a8d",
   "metadata": {},
   "outputs": [
    {
     "name": "stdout",
     "output_type": "stream",
     "text": [
      "[]\n"
     ]
    }
   ],
   "source": [
    "listmethod = [\"append\",\"clear\",\"copy\",\"count\",\"extend\"]\n",
    "\n",
    "listmethod.clear()\n",
    "\n",
    "print(listmethod)"
   ]
  },
  {
   "cell_type": "markdown",
   "id": "97e00b80-9666-40f0-9aee-88c0b5c5d1aa",
   "metadata": {},
   "source": [
    "#### copy() method"
   ]
  },
  {
   "cell_type": "code",
   "execution_count": 91,
   "id": "f57b2989-c0c7-4f3c-8107-028c97b3f566",
   "metadata": {},
   "outputs": [
    {
     "name": "stdout",
     "output_type": "stream",
     "text": [
      "['data_analytics', 'java_fullstack', 'software_testing', 'salesforce']\n"
     ]
    }
   ],
   "source": [
    "courses = [\"data_analytics\",\"java_fullstack\",\"software_testing\",\"salesforce\"]\n",
    "\n",
    "courses.copy()\n",
    "\n",
    "print(courses)"
   ]
  },
  {
   "cell_type": "markdown",
   "id": "cc49edc5-af2f-4b2f-ac02-ee0f68cce58c",
   "metadata": {},
   "source": [
    "#### count() Method\n",
    "\n"
   ]
  },
  {
   "cell_type": "code",
   "execution_count": 122,
   "id": "424a7aae-4e8b-4892-aced-df427e9a4ff4",
   "metadata": {},
   "outputs": [
    {
     "name": "stdout",
     "output_type": "stream",
     "text": [
      "3\n"
     ]
    }
   ],
   "source": [
    "count = [1,2,3,3,4,5,6,6,7,3,1]\n",
    "\n",
    "count = count.count(3)\n",
    "\n",
    "print(count)\n"
   ]
  },
  {
   "cell_type": "code",
   "execution_count": 130,
   "id": "30e374ca-032a-4f5f-87f2-2a3feae0c7dc",
   "metadata": {},
   "outputs": [
    {
     "data": {
      "text/plain": [
       "4"
      ]
     },
     "execution_count": 130,
     "metadata": {},
     "output_type": "execute_result"
    }
   ],
   "source": [
    "count = [0,1,2,3,3,4,5,6,6,7,3,1,0,0,5,9,0,5,10]\n",
    "\n",
    "count.count(0)"
   ]
  },
  {
   "cell_type": "markdown",
   "id": "17300df3-6ada-4790-99cb-1c428c9bffab",
   "metadata": {},
   "source": [
    "#### extend() Method"
   ]
  },
  {
   "cell_type": "code",
   "execution_count": 133,
   "id": "6c8fc218-e671-4110-ad4e-b1032d94ab56",
   "metadata": {},
   "outputs": [
    {
     "name": "stdout",
     "output_type": "stream",
     "text": [
      "['java_script', 'type_script', 'react_js', 'core_java', 'sql_mysql', 'postman', 'spring_tools', 'eclipse', 'apache', 'vs_code']\n"
     ]
    }
   ],
   "source": [
    "extend = [\"java_script\",\"type_script\",\"react_js\",\"core_java\",\"sql_mysql\"]\n",
    "\n",
    "ectend1 = [\"postman\",\"spring_tools\",\"eclipse\",\"apache\",\"vs_code\"]\n",
    "\n",
    "extend.extend(ectend1)\n",
    "\n",
    "print(extend)"
   ]
  },
  {
   "cell_type": "markdown",
   "id": "cff242a4-5f33-4a79-b280-19f4a2070d3e",
   "metadata": {},
   "source": [
    "#### index() Method"
   ]
  },
  {
   "cell_type": "code",
   "execution_count": 141,
   "id": "80497c72-b94e-4622-baab-bec0668b22c4",
   "metadata": {},
   "outputs": [
    {
     "name": "stdout",
     "output_type": "stream",
     "text": [
      "5\n"
     ]
    }
   ],
   "source": [
    "month = [\"jan\",\"feb\",\"mar\",\"aprl\",\"may\",\"jun\",\"jul\",\"aug\",\"sep\",\"oct\",\"nov\",\"dec\"]\n",
    "\n",
    "month = month.index(\"jun\")\n",
    "\n",
    "print(month)"
   ]
  },
  {
   "cell_type": "code",
   "execution_count": 147,
   "id": "407240fd-f799-4b1b-9ddf-08cebdfb2a98",
   "metadata": {},
   "outputs": [
    {
     "data": {
      "text/plain": [
       "10"
      ]
     },
     "execution_count": 147,
     "metadata": {},
     "output_type": "execute_result"
    }
   ],
   "source": [
    "month = [\"jan\",\"feb\",\"mar\",\"aprl\",\"may\",\"jun\",\"jul\",\"aug\",\"sep\",\"oct\",\"nov\",\"dec\"]\n",
    "\n",
    "month.index(\"nov\")\n"
   ]
  },
  {
   "cell_type": "markdown",
   "id": "a19ff500-3840-4cf6-9f51-301d9e2cc7c7",
   "metadata": {},
   "source": [
    "#### insert() Method\n",
    "\n"
   ]
  },
  {
   "cell_type": "code",
   "execution_count": 151,
   "id": "6108c531-d781-4022-ade1-fb60bb0c1696",
   "metadata": {},
   "outputs": [
    {
     "name": "stdout",
     "output_type": "stream",
     "text": [
      "['IT', 'Finance', 'Sales', 'Accounting', 'Human Resources', 'engineering', 'Marketing']\n"
     ]
    }
   ],
   "source": [
    "dept = [\"IT\",\"Finance\",\"Sales\",\"Accounting\",\"Human Resources\",\"Marketing\",]\n",
    "\n",
    "dept.insert(5,\"engineering\")\n",
    "\n",
    "print(dept)"
   ]
  },
  {
   "cell_type": "markdown",
   "id": "fd17f5b7-d6eb-4b46-85dd-57f5c67fab37",
   "metadata": {},
   "source": [
    "#### pop() Method\n",
    "\n"
   ]
  },
  {
   "cell_type": "code",
   "execution_count": 155,
   "id": "fde422ce-eb48-40d4-a26a-4b6d2cee8bd6",
   "metadata": {},
   "outputs": [
    {
     "name": "stdout",
     "output_type": "stream",
     "text": [
      "['Director', 'Manager', 'Technical Architect', 'IT Coordinator', 'Account Representative']\n"
     ]
    }
   ],
   "source": [
    "job_role = [\"Director\",\"Manager\",\"Analyst\",\"Technical Architect\",\"IT Coordinator\",\"Account Representative\"]\n",
    "\n",
    "job_role.pop(2)\n",
    "\n",
    "print(job_role)"
   ]
  },
  {
   "cell_type": "code",
   "execution_count": 159,
   "id": "2ca42414-2fdd-444f-b9cd-5fd40792f138",
   "metadata": {},
   "outputs": [
    {
     "name": "stdout",
     "output_type": "stream",
     "text": [
      "['Manufacturing', 'Speciality Products', 'Research & Development', '']\n"
     ]
    }
   ],
   "source": [
    "remove = [\"Manufacturing\",\"Speciality Products\",\"Corporate\",\"Research & Development\",\"\"]\n",
    "\n",
    "remove.remove(\"Corporate\")\n",
    "\n",
    "print(remove)"
   ]
  },
  {
   "cell_type": "markdown",
   "id": "d1c751ca-dc90-4080-a7a7-d91527a32b7e",
   "metadata": {},
   "source": [
    "#### reverse() Method (desc)\n",
    "\n"
   ]
  },
  {
   "cell_type": "code",
   "execution_count": 162,
   "id": "5e13ac7e-d079-44f3-8c4d-3ff09023d27c",
   "metadata": {},
   "outputs": [
    {
     "name": "stdout",
     "output_type": "stream",
     "text": [
      "['Shanghai', 'Rio_de_Janerio', 'Phoenix', 'Miami', 'Chicago', 'Beijing', 'Austin']\n"
     ]
    }
   ],
   "source": [
    "reverse = [\"Austin\",\"Beijing\",\"Chicago\",\"Miami\",\"Phoenix\",\"Rio_de_Janerio\",\"Shanghai\"]\n",
    "\n",
    "reverse.reverse()\n",
    "\n",
    "print(reverse)"
   ]
  },
  {
   "cell_type": "markdown",
   "id": "7ad31537-5846-4958-83db-4f5f836f727b",
   "metadata": {},
   "source": [
    "#### sort() method (asc)"
   ]
  },
  {
   "cell_type": "code",
   "execution_count": 168,
   "id": "e82f55c6-0325-4ac2-adc5-047c8d7f3a24",
   "metadata": {},
   "outputs": [
    {
     "name": "stdout",
     "output_type": "stream",
     "text": [
      "['Austin', 'Camila', 'Emily', 'Madeline', 'Penelope', 'Ruby', 'Theodore', 'Xavier', 'Zoey']\n"
     ]
    }
   ],
   "source": [
    "sort = [\"Austin\",\"Emily\",\"Zoey\",\"Theodore\",\"Penelope\",\"Ruby\",\"Madeline\",\"Camila\",\"Xavier\"]\n",
    "\n",
    "sort.sort()\n",
    "\n",
    "print(sort)"
   ]
  }
 ],
 "metadata": {
  "kernelspec": {
   "display_name": "Python 3 (ipykernel)",
   "language": "python",
   "name": "python3"
  },
  "language_info": {
   "codemirror_mode": {
    "name": "ipython",
    "version": 3
   },
   "file_extension": ".py",
   "mimetype": "text/x-python",
   "name": "python",
   "nbconvert_exporter": "python",
   "pygments_lexer": "ipython3",
   "version": "3.11.7"
  }
 },
 "nbformat": 4,
 "nbformat_minor": 5
}
